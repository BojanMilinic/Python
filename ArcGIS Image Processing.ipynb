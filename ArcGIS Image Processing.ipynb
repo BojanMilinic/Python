{
 "cells": [
  {
   "cell_type": "markdown",
   "id": "f34ddd40",
   "metadata": {},
   "source": [
    "# PILLOW\n",
    "Great video for help: https://www.youtube.com/watch?v=5QR-dG68eNE&t=39s\n",
    "Explanation on anchor points at 1:54:00. May help if text placement needs to be very exact"
   ]
  },
  {
   "cell_type": "code",
   "execution_count": 2,
   "id": "b01c2c95",
   "metadata": {},
   "outputs": [],
   "source": [
    "#import pillow for image manipulation\n",
    "from PIL import Image, ImageDraw, ImageFont\n",
    "\n",
    "from datetime import datetime #for saving the figure using today's date"
   ]
  },
  {
   "cell_type": "code",
   "execution_count": 3,
   "id": "a568adee",
   "metadata": {},
   "outputs": [
    {
     "name": "stdout",
     "output_type": "stream",
     "text": [
      "Current working directory: c:\\Users\\bmilinic\\OneDrive - DOI\\Documents\\Python\n"
     ]
    }
   ],
   "source": [
    "#figure out your current working directory (cwd)\n",
    "import os # #for working with directory\n",
    "cwd = os.getcwd() #store original directory into cwd just incase\n",
    "print(\"Current working directory: {0}\".format(cwd))"
   ]
  },
  {
   "cell_type": "code",
   "execution_count": 4,
   "id": "f9a1dbb0",
   "metadata": {},
   "outputs": [
    {
     "name": "stdout",
     "output_type": "stream",
     "text": [
      "New current working directory c:\\Users\\bmilinic\\OneDrive - DOI\\Documents\\ArcGIS\\geogenics_source\\figures\n"
     ]
    }
   ],
   "source": [
    "#change it\n",
    "os.chdir(r'C:\\Users\\bmilinic\\OneDrive - DOI\\Documents\\Python') #make sure directory is at default\n",
    "os.chdir('../ArcGIS/geogenics_source/figures') #change it relative to default directory\n",
    "cwd = os.getcwd() \n",
    "print(\"New current working directory\", cwd)"
   ]
  },
  {
   "cell_type": "markdown",
   "id": "d0ba235a",
   "metadata": {},
   "source": [
    "# 3 x 2 Processing Figures\n",
    "12/20/2022"
   ]
  },
  {
   "cell_type": "markdown",
   "id": "616532e9",
   "metadata": {},
   "source": [
    "### Set up path and examine directory/image sizes"
   ]
  },
  {
   "cell_type": "code",
   "execution_count": 24,
   "id": "72bd5f08",
   "metadata": {
    "scrolled": true
   },
   "outputs": [
    {
     "name": "stdout",
     "output_type": "stream",
     "text": [
      "1 map%_AsExceed5_ranked.png\n",
      "(1056, 816)\n",
      "2 map%_AsExeed5_calculated.png\n",
      "(1056, 816)\n",
      "3 map%_GW_DW_calculated.png\n",
      "(1056, 816)\n",
      "4 map%_GW_DW_ranked.png\n",
      "(1056, 816)\n",
      "5 mapAbs_GW_change_ranked.png\n",
      "(1056, 816)\n",
      "6 mapAbs_PPT_change_ranked.png\n",
      "(1056, 816)\n",
      "7 mapActive Mines_raw.png\n",
      "(1056, 816)\n",
      "8 mapArsenic Prob gt 5.png\n",
      "(1056, 816)\n",
      "9 mapBrackish_ft_raw.png\n",
      "(1056, 816)\n",
      "10 mapCONUS_boundary.png\n",
      "(1056, 816)\n",
      "11 mapCoWU2015_raw.png\n",
      "(1056, 816)\n",
      "12 mapData_Gap_calculated.png\n",
      "(1056, 816)\n",
      "13 mapData_Gap_ranked.png\n",
      "(1056, 816)\n",
      "14 mapDemographic Index_raw.png\n",
      "(1056, 816)\n",
      "15 mapDom_well_pop_calculated.png\n",
      "(1056, 816)\n",
      "16 mapDom_well_pop_ranked.png\n",
      "(1056, 816)\n",
      "17 mapEPARegulatedSites_calculated.png\n",
      "(1056, 816)\n",
      "18 mapEPARegulatedSites_ranked.png\n",
      "(1056, 816)\n",
      "19 mapEPARegulatedSites_raw.png\n",
      "(1056, 816)\n",
      "20 mapGW Storage change_raw.png\n",
      "(1056, 816)\n",
      "21 mapHydrologic Regions.png\n",
      "(1056, 816)\n",
      "22 mapIR_WU_calculated.png\n",
      "(1056, 816)\n",
      "23 mapIR_WU_ranked.png\n",
      "(1056, 816)\n",
      "24 mapMag_GW_change_calculated.png\n",
      "(1056, 816)\n",
      "25 mapMag_PPT_change_calculated.png\n",
      "(1056, 816)\n",
      "26 mapMines_calculated.png\n",
      "(1056, 816)\n",
      "27 mapMines_ranked.png\n",
      "(1056, 816)\n",
      "28 mapNativePop_raw.png\n",
      "(1056, 816)\n",
      "29 mapNative_pop_den_calculated.png\n",
      "(1056, 816)\n",
      "30 mapNative_pop_den_ranked.png\n",
      "(1056, 816)\n",
      "31 mapNEW_TraceALL_Final_Point_raw.png\n",
      "(1056, 816)\n",
      "32 mapNo. Ppl - Domestic supply_raw.png\n",
      "(1056, 816)\n",
      "33 mapPPT_change_raw.png\n",
      "(1056, 816)\n",
      "34 mapPublic Supply - GW_raw.png\n",
      "(1056, 816)\n",
      "35 mapSD_calculated.png\n",
      "(1056, 816)\n",
      "36 mapSD_ranked.png\n",
      "(1056, 816)\n",
      "37 mapShallow_brackish_calculated.png\n",
      "(1056, 816)\n",
      "38 mapShallow_brackish_ranked.png\n",
      "(1056, 816)\n",
      "39 mapUSGSTopo.png\n",
      "(1056, 816)\n",
      "'map%_AsExceed5_ranked.png',\n",
      "'map%_AsExeed5_calculated.png',\n",
      "'map%_GW_DW_calculated.png',\n",
      "'map%_GW_DW_ranked.png',\n",
      "'mapAbs_GW_change_ranked.png',\n",
      "'mapAbs_PPT_change_ranked.png',\n",
      "'mapActive Mines_raw.png',\n",
      "'mapArsenic Prob gt 5.png',\n",
      "'mapBrackish_ft_raw.png',\n",
      "'mapCONUS_boundary.png',\n",
      "'mapCoWU2015_raw.png',\n",
      "'mapData_Gap_calculated.png',\n",
      "'mapData_Gap_ranked.png',\n",
      "'mapDemographic Index_raw.png',\n",
      "'mapDom_well_pop_calculated.png',\n",
      "'mapDom_well_pop_ranked.png',\n",
      "'mapEPARegulatedSites_calculated.png',\n",
      "'mapEPARegulatedSites_ranked.png',\n",
      "'mapEPARegulatedSites_raw.png',\n",
      "'mapGW Storage change_raw.png',\n",
      "'mapHydrologic Regions.png',\n",
      "'mapIR_WU_calculated.png',\n",
      "'mapIR_WU_ranked.png',\n",
      "'mapMag_GW_change_calculated.png',\n",
      "'mapMag_PPT_change_calculated.png',\n",
      "'mapMines_calculated.png',\n",
      "'mapMines_ranked.png',\n",
      "'mapNativePop_raw.png',\n",
      "'mapNative_pop_den_calculated.png',\n",
      "'mapNative_pop_den_ranked.png',\n",
      "'mapNEW_TraceALL_Final_Point_raw.png',\n",
      "'mapNo. Ppl - Domestic supply_raw.png',\n",
      "'mapPPT_change_raw.png',\n",
      "'mapPublic Supply - GW_raw.png',\n",
      "'mapSD_calculated.png',\n",
      "'mapSD_ranked.png',\n",
      "'mapShallow_brackish_calculated.png',\n",
      "'mapShallow_brackish_ranked.png',\n",
      "'mapUSGSTopo.png',\n"
     ]
    }
   ],
   "source": [
    "#change directory to 'process' in a way that maintains original directory\n",
    "path = cwd + '\\process' \n",
    "os.chdir(path)\n",
    "#create an object out of my directory\n",
    "directory = os.scandir(path) \n",
    "#loop thorough that object to inspect amount and size of images\n",
    "n = 1\n",
    "for file in directory: # for entry in object\n",
    "    image = Image.open(file.name)\n",
    "    print(n, image.filename)\n",
    "    print(image.size)\n",
    "    n += 1\n",
    "    \n",
    "#create list to be used as 'mapnames' variable\n",
    "directory = os.scandir(path) #this line needs to be repeated...not exactly sure why\n",
    "for file in directory:\n",
    "    print(\"'\"+file.name+\"',\")"
   ]
  },
  {
   "attachments": {},
   "cell_type": "markdown",
   "id": "bdf1f8cd",
   "metadata": {},
   "source": [
    "### LOOPING THROUGH EACH CANVAS"
   ]
  },
  {
   "cell_type": "code",
   "execution_count": 25,
   "id": "ee533ec0",
   "metadata": {},
   "outputs": [],
   "source": [
    "#setup list of map names lists (NEW ORDER)\n",
    "#organized by order they show up in the paper in groups of 6 maps (3 across and 2 down)\n",
    "mapnames = [\n",
    "    ['mapArsenic Prob gt 5.png','map%_AsExeed5_calculated.png','map%_AsExceed5_ranked.png',\n",
    "     'mapBrackish_ft_raw.png','mapShallow_brackish_calculated.png', 'mapShallow_brackish_ranked.png', \n",
    "    ],\n",
    "    ['mapGW Storage change_raw.png','mapMag_GW_change_calculated.png','mapAbs_GW_change_ranked.png',\n",
    "     'mapPPT_change_raw.png','mapMag_PPT_change_calculated.png','mapAbs_PPT_change_ranked.png',     \n",
    "    ],\n",
    "    ['mapPublic Supply - GW_raw.png','map%_GW_DW_calculated.png','map%_GW_DW_ranked.png',\n",
    "     'mapCoWU2015_raw.png','mapIR_WU_calculated.png','mapIR_WU_ranked.png',     \n",
    "    ],\n",
    "    ['mapEPARegulatedSites_raw.png', 'mapEPARegulatedSites_calculated.png','mapEPARegulatedSites_ranked.png',\n",
    "     'mapActive Mines_raw.png', 'mapMines_calculated.png', 'mapMines_ranked.png',    \n",
    "    ],\n",
    "    ['mapNo. Ppl - Domestic supply_raw.png','mapDom_well_pop_calculated.png','mapDom_well_pop_ranked.png',\n",
    "     'mapDemographic Index_raw.png','mapSD_calculated.png','mapSD_ranked.png',\n",
    "    ],\n",
    "    ['mapNativePop_raw.png','mapNative_pop_den_calculated.png','mapNative_pop_den_ranked.png',\n",
    "     'mapNEW_TraceALL_Final_Point_raw.png','mapData_Gap_calculated.png', 'mapData_Gap_ranked.png',\n",
    "    ],\n",
    "]\n",
    "\n",
    "titles = [\n",
    "    ['Arsenic_Prob_5_raw','%_AsExeed5_calculated','%_AsExceed5_ranked',\n",
    "     'Brackish_ft_raw','Shallow_brackish_calculated', 'Shallow_brackish_ranked',      \n",
    "    ],\n",
    "    ['GW_Storage_change_raw','Mag_GW_change_calculated','Abs_GW_change_ranked',\n",
    "     'PPT_change_raw','Mag_PPT_change_calculated','Abs_PPT_change_ranked',   \n",
    "    ],\n",
    "    ['Public_Supply_GW_raw','%_GW_DW_calculated','%_GW_DW_ranked',\n",
    "     'CoWU2015_raw','IR_WU_calculated','IR_WU_ranked',   \n",
    "    ],\n",
    "    ['EPARegulatedSites_raw', 'EPARegulatedSites_calculated','EPARegulatedSites_ranked',\n",
    "     'Active_Mines_raw', 'Mines_calculated', 'Mines_ranked',   \n",
    "    ],\n",
    "    ['No_Ppl_Domestic_supply_raw','Dom_well_pop_calculated','Dom_well_pop_ranked',\n",
    "     'Demographic_Index_raw','mapSD_calculated','mapSD_ranked',   \n",
    "    ],\n",
    "    ['NativePop_raw','Native_pop_den_calculated','Native_pop_den_ranked',\n",
    "     'Trace_Elements_raw','Data_Gap_calculated', 'Data_Gap_ranked',   \n",
    "    ],\n",
    "]\n",
    "\n",
    "#get height and width of single map...As long as all figures are the same size, this code does not need to change\n",
    "width = image.size[0]\n",
    "height = image.size[1]\n",
    "\n",
    "#create a canvas that fits all 6 maps per figure. (width * maps wanted across, height * maps wanted down)\n",
    "canvas = Image.new('RGBA',(width * 3, height * 2))\n",
    "\n",
    "#get maps names and list for x,y coordinates of maps\n",
    "listx = [0, 1, 2, 0, 1, 2]\n",
    "listy = [0, 0, 0, 1, 1, 1]\n",
    "#for saving the figure\n",
    "name = 1\n",
    "date = datetime.today().strftime('%Y%m%d')\n",
    "\n",
    "for mapname, title in zip(mapnames, titles):\n",
    "    #create a canvas that fits all 6 maps per figure. (width * maps wanted across, height * maps wanted down)\n",
    "    canvas = Image.new('RGBA',(width * 3, height * 2))\n",
    "    #open images into canvas\n",
    "    for m, n, p in zip(mapname, listx, listy):\n",
    "        image = Image.open(m)\n",
    "        canvas.paste(image, (width * n, height * p))\n",
    "    #Labeling the plots\n",
    "    draw = ImageDraw.Draw(canvas)\n",
    "    #set up font\n",
    "    font = ImageFont.truetype(r'../../../../Python/fonts/Roboto/Roboto-Regular.ttf', size=50)\n",
    "    for n, p, q in zip(listx, listy, title):\n",
    "        draw.text((width * n + (0.5 *width), height * p), q, font=font, fill = (0,0,0), align = 'center', anchor = 'ma')\n",
    "    #canvas.show()\n",
    "    \n",
    "    # saving the figure\n",
    "    canvas.save('../'+date+'_6mapvariableset'+str(name)+'.png')\n",
    "    name = int(name) + 1"
   ]
  },
  {
   "cell_type": "markdown",
   "id": "193613a9",
   "metadata": {},
   "source": [
    "# The 12 Map Figure (3 x 4 maps with legend in 5th column) "
   ]
  },
  {
   "cell_type": "code",
   "execution_count": 13,
   "id": "5eaa31b4",
   "metadata": {},
   "outputs": [
    {
     "name": "stdout",
     "output_type": "stream",
     "text": [
      "1 legend.png\n",
      "(1056, 816)\n",
      "2 map%_AsExceed5_ranked.png\n",
      "(1056, 816)\n",
      "3 map%_GW_DW_ranked.png\n",
      "(1056, 816)\n",
      "4 mapAbs_GW_change_ranked.png\n",
      "(1056, 816)\n",
      "5 mapAbs_PPT_change_ranked.png\n",
      "(1056, 816)\n",
      "6 mapData_Gap_ranked.png\n",
      "(1056, 816)\n",
      "7 mapDom_well_pop_ranked.png\n",
      "(1056, 816)\n",
      "8 mapEPARegulatedSites_ranked.png\n",
      "(1056, 816)\n",
      "9 mapIR_WU_ranked.png\n",
      "(1056, 816)\n",
      "10 mapMines_ranked.png\n",
      "(1056, 816)\n",
      "11 mapNative_pop_den_ranked.png\n",
      "(1056, 816)\n",
      "12 mapSD_ranked.png\n",
      "(1056, 816)\n",
      "13 mapShallow_brackish_ranked.png\n",
      "(1056, 816)\n",
      "'legend.png',\n",
      "'map%_AsExceed5_ranked.png',\n",
      "'map%_GW_DW_ranked.png',\n",
      "'mapAbs_GW_change_ranked.png',\n",
      "'mapAbs_PPT_change_ranked.png',\n",
      "'mapData_Gap_ranked.png',\n",
      "'mapDom_well_pop_ranked.png',\n",
      "'mapEPARegulatedSites_ranked.png',\n",
      "'mapIR_WU_ranked.png',\n",
      "'mapMines_ranked.png',\n",
      "'mapNative_pop_den_ranked.png',\n",
      "'mapSD_ranked.png',\n",
      "'mapShallow_brackish_ranked.png',\n"
     ]
    }
   ],
   "source": [
    "#change directory to 'RankedVariables' in a way that maintains original directory\n",
    "path = cwd + '\\RankedVariables' \n",
    "os.chdir(path)\n",
    "#create an object out of my directory\n",
    "directory = os.scandir(path) \n",
    "#loop thorough that object to inspect amount and size of images\n",
    "n = 1\n",
    "for file in directory: # for entry in object\n",
    "    image = Image.open(file.name)\n",
    "    print(n, image.filename)\n",
    "    print(image.size)\n",
    "    n += 1\n",
    "    \n",
    "#create list to be used as 'mapnames' variable\n",
    "directory = os.scandir(path) #this line needs to be repeated...not exactly sure why\n",
    "for file in directory:\n",
    "    print(\"'\"+file.name+\"',\")"
   ]
  },
  {
   "cell_type": "code",
   "execution_count": 14,
   "id": "44678102",
   "metadata": {},
   "outputs": [],
   "source": [
    "#get height and width of single map...As long as all figures are the same size, this code does not need to change\n",
    "width = image.size[0]\n",
    "height = image.size[1]\n",
    "\n",
    "#create a canvas that fits all 6 maps per figure. (width * maps wanted across, height * maps wanted down)\n",
    "canvas = Image.new('RGBA',(width * 3, height * 5)) #height is 5 down to fit the legend\n",
    "\n",
    "#get maps names and list for x,y coordinates of maps\n",
    "listx = [0, 1, 2, 0, 1, 2, 0, 1, 2, 0, 1, 2, 0, 1, 2]\n",
    "listy = [0, 0, 0, 1, 1, 1, 2, 2, 2, 3, 3, 3, 4, 4, 4]\n",
    "\n",
    "#choose order of plots using 'mapnames' (organized in same order as they appear)\n",
    "mapnames = ['map%_AsExceed5_ranked.png','map%_GW_DW_ranked.png','mapDom_well_pop_ranked.png', \n",
    "            'mapShallow_brackish_ranked.png','mapIR_WU_ranked.png','mapSD_ranked.png', \n",
    "            'mapAbs_GW_change_ranked.png','mapEPARegulatedSites_ranked.png','mapNative_pop_den_ranked.png',\n",
    "            'mapAbs_PPT_change_ranked.png','mapMines_ranked.png','mapData_Gap_ranked.png',            \n",
    "            'legend.png'\n",
    "           ]\n",
    "for m, n, p in zip(mapnames, listx, listy):\n",
    "    image = Image.open(m)\n",
    "    canvas.paste(image, (width * n, height * p))"
   ]
  },
  {
   "cell_type": "code",
   "execution_count": 15,
   "id": "2ad6bbf1",
   "metadata": {},
   "outputs": [],
   "source": [
    "#Labeling the plot\n",
    "\n",
    "#shorten function name\n",
    "draw = ImageDraw.Draw(canvas)\n",
    "#set up font\n",
    "font = ImageFont.truetype(r'../../../../Python/fonts/Roboto/Roboto-Regular.ttf', size=50)\n",
    "#use previous lists and one more to set up loop (organized in same order as they appear)\n",
    "titles = ['%_AsExceed5','%_GW_DW','Dom_well_pop',\n",
    "          'Shallow_brackish','IR_WU','SD',\n",
    "          'Mag_GW_change','EPA_site_den', 'Native_pop_den',\n",
    "          'Mag_PPT_change', 'Mines', 'Data_Gap',]                          \n",
    "for n, p, title in zip(listx, listy, titles):\n",
    "    draw.text((width * n + (0.5 *width), height * p), title, font=font, fill = (0,0,0), align = 'center', anchor = 'ma')"
   ]
  },
  {
   "cell_type": "code",
   "execution_count": 18,
   "id": "a84a97ba",
   "metadata": {},
   "outputs": [],
   "source": [
    "#Crop the plot\n",
    "# Setting the points for cropped image\n",
    "left = 0\n",
    "top = 0\n",
    "right = width * 3\n",
    "bottom = height * 4.5 #removing 1/2 of the legend map block \n",
    " \n",
    "# Cropped image of above dimension\n",
    "# (It will not change original image)\n",
    "canvas_crop = canvas.crop((left, top, right, bottom))\n",
    " \n",
    "# Shows the image in image viewer\n",
    "canvas_crop.show()"
   ]
  },
  {
   "cell_type": "code",
   "execution_count": 17,
   "id": "ca9ee13e",
   "metadata": {},
   "outputs": [],
   "source": [
    "# saving the figure\n",
    "date = datetime.today().strftime('%Y%m%d')\n",
    "canvas_crop.save('../'+date+'_12mapfigure.png')"
   ]
  },
  {
   "cell_type": "markdown",
   "id": "e0143c94",
   "metadata": {},
   "source": [
    "## Extra 1: Interesting aside\n",
    "code runs with path and obj are given variables...but not if ran in another code"
   ]
  },
  {
   "cell_type": "code",
   "execution_count": 60,
   "id": "deea74bb",
   "metadata": {},
   "outputs": [
    {
     "name": "stdout",
     "output_type": "stream",
     "text": [
      "mapCoWU2015_raw.png\n",
      "(1056, 816)\n",
      "PNG\n",
      "Portable network graphics\n",
      "mapData_Gap_calculated.png\n",
      "(1056, 816)\n",
      "PNG\n",
      "Portable network graphics\n",
      "mapData_Gap_ranked.png\n",
      "(1056, 816)\n",
      "PNG\n",
      "Portable network graphics\n",
      "mapIR_WU_calculated.png\n",
      "(1056, 816)\n",
      "PNG\n",
      "Portable network graphics\n",
      "mapIR_WU_ranked.png\n",
      "(1056, 816)\n",
      "PNG\n",
      "Portable network graphics\n",
      "mapNEW_TraceALL_Final_Point_raw.png\n",
      "(1056, 816)\n",
      "PNG\n",
      "Portable network graphics\n"
     ]
    }
   ],
   "source": [
    "#THIS CODE RUNS!\n",
    "#inspecting a bunch of images\n",
    "path = cwd\n",
    "obj = os.scandir(path) #turn path into an object that is iterable\n",
    "\n",
    "for entry in obj: #or for file in directory\n",
    "    image = Image.open(entry.name)\n",
    "    #image.show()\n",
    "    print(image.filename)\n",
    "    print(image.size)\n",
    "    print(image.format)\n",
    "    print(image.format_description)"
   ]
  },
  {
   "cell_type": "code",
   "execution_count": 51,
   "id": "82f7663e",
   "metadata": {},
   "outputs": [],
   "source": [
    "#THIS CODE DOES NOT RUN EVEN THOUGH obj WAS ALREADY DEFINED BEFORE\n",
    "for entry in obj: #or for file in directory\n",
    "    image = Image.open(entry.name)\n",
    "    #image.show()\n",
    "    print(image.filename)\n",
    "    print(image.size)\n",
    "    print(image.format)\n",
    "    print(image.format_description)"
   ]
  },
  {
   "cell_type": "markdown",
   "id": "297a1f43",
   "metadata": {},
   "source": [
    "Explanation? Looks like obj needs to be reset. Perhaps when it iterates through, it says at the last iteration (which there are not files after the 6th item)"
   ]
  },
  {
   "cell_type": "markdown",
   "id": "750b95f8",
   "metadata": {},
   "source": [
    "## Extra 2: New way to figure out what listx and listy should be"
   ]
  },
  {
   "cell_type": "code",
   "execution_count": 116,
   "id": "8dfc1e3d",
   "metadata": {},
   "outputs": [
    {
     "name": "stdout",
     "output_type": "stream",
     "text": [
      "[0, 1, 2, 0, 1, 2, 0, 1, 2, 0, 1, 2, 0, 1, 2]\n",
      "[0, 0, 0, 1, 1, 1, 2, 2, 2, 3, 3, 3, 4, 4, 4]\n"
     ]
    }
   ],
   "source": [
    "# Creating x, y coordinates based on grid size...example (3x2)\n",
    "##library import\n",
    "import numpy as np\n",
    "\n",
    "##take input for how many maps you want across (inputx) and maps down (inputy)\n",
    "inputx = 3\n",
    "inputy = 5\n",
    "\n",
    "##do these commands\n",
    "iterate_x = list(np.arange(0, inputx, 1)) \n",
    "iterate_y = list(np.arange(0, inputy, 1))\n",
    "\n",
    "#create list for x\n",
    "listx = []\n",
    "n = 0\n",
    "while n < inputy:\n",
    "    for x in iterate_x:\n",
    "        listx.append(x)\n",
    "    n += 1\n",
    "print(listx)\n",
    "\n",
    "#create list for y\n",
    "listy = []\n",
    "for y in iterate_y:\n",
    "    n = 0\n",
    "    while n < inputx:\n",
    "        listy.append(iterate_y[y])\n",
    "        n += 1\n",
    "print(listy)"
   ]
  }
 ],
 "metadata": {
  "kernelspec": {
   "display_name": "Python 3",
   "language": "python",
   "name": "python3"
  },
  "language_info": {
   "codemirror_mode": {
    "name": "ipython",
    "version": 3
   },
   "file_extension": ".py",
   "mimetype": "text/x-python",
   "name": "python",
   "nbconvert_exporter": "python",
   "pygments_lexer": "ipython3",
   "version": "3.9.12"
  },
  "vscode": {
   "interpreter": {
    "hash": "88f0d5da0f5c51017bf5fa1411746da694b8be09d55cffcd352725c954b24f48"
   }
  }
 },
 "nbformat": 4,
 "nbformat_minor": 5
}
